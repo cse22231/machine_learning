{
 "cells": [
  {
   "cell_type": "code",
   "execution_count": 19,
   "id": "43730c28",
   "metadata": {},
   "outputs": [
    {
     "name": "stdout",
     "output_type": "stream",
     "text": [
      "Number of pairs with sum 10 : 2\n"
     ]
    }
   ],
   "source": [
    "def count_pairs_with_sum(numbers, target_sum):\n",
    "    seen = []  # List to keep track of seen numbers\n",
    "    pairs_count = 0\n",
    "\n",
    "    for number in numbers:\n",
    "        # Calculate the complement that we need to find\n",
    "        complement = target_sum - number\n",
    "        \n",
    "        # Check if the complement has been seen before\n",
    "        if complement in seen:  # Here we are using 'in' to check presence in the list\n",
    "            pairs_count += 1\n",
    "        \n",
    "        # Add the current number to the list of seen numbers\n",
    "        seen.append(number)\n",
    "\n",
    "    return pairs_count\n",
    "\n",
    "# Given list\n",
    "numbers = [2, 7, 4, 1, 3, 6]\n",
    "target_sum = 10\n",
    "\n",
    "# Count pairs\n",
    "result = count_pairs_with_sum(numbers, target_sum)\n",
    "print(\"Number of pairs with sum\", target_sum, \":\", result)"
   ]
  },
  {
   "cell_type": "code",
   "execution_count": 20,
   "id": "2e8bbe95",
   "metadata": {},
   "outputs": [
    {
     "name": "stdout",
     "output_type": "stream",
     "text": [
      "The range of the list is: 8\n"
     ]
    }
   ],
   "source": [
    "def calculate_range(numbers):\n",
    "    if len(numbers) < 3:\n",
    "        return \"Range determination not possible\"\n",
    "    \n",
    "    # Initialize minimum and maximum to the first element\n",
    "    minimum = numbers[0]\n",
    "    maximum = numbers[0]\n",
    "    \n",
    "    # Loop through the list to find the minimum and maximum\n",
    "    for number in numbers:\n",
    "        if number < minimum:\n",
    "            minimum = number\n",
    "        if number > maximum:\n",
    "            maximum = number\n",
    "    \n",
    "    # Calculate and return the range\n",
    "    return maximum - minimum\n",
    "\n",
    "def main():\n",
    "    # Example list of real numbers\n",
    "    numbers = [5, 3, 8, 1, 0, 4]\n",
    "    \n",
    "    # Calculate the range\n",
    "    result = calculate_range(numbers)\n",
    "    \n",
    "    # Print the result\n",
    "    print(\"The range of the list is:\", result)\n",
    "\n",
    "if __name__ == \"__main__\":\n",
    "    main()"
   ]
  },
  {
   "cell_type": "code",
   "execution_count": null,
   "id": "8b973a3e",
   "metadata": {},
   "outputs": [],
   "source": [
    "def matrix_power(A, m):\n",
    "    if len(A) != len(A[0]):\n",
    "        raise ValueError(\"Input must be a square matrix.\")\n",
    "    if not isinstance(m, int) or m < 1:\n",
    "        raise ValueError(\"m must be a positive integer.\")\n",
    "    \n",
    "    n = len(A)\n",
    "    result = [[0] * n for _ in range(n)]\n",
    "    \n",
    "    for i in range(n):\n",
    "        result[i][i] = 1\n",
    "\n",
    "    for _ in range(m):\n",
    "        new_result = [[0] * n for _ in range(n)]\n",
    "        for i in range(n):\n",
    "            for j in range(n):\n",
    "                for k in range(n):\n",
    "                    new_result[i][j] += result[i][k] * A[k][j]\n",
    "        result = new_result\n",
    "    \n",
    "    return result\n",
    "\n",
    "if __name__ == \"__main__\":\n",
    "    A = [[1, 2],\n",
    "         [3, 4]]\n",
    "    m = 2\n",
    "    result = matrix_power(A, m)\n",
    "    print(f\"A^{m} =\")\n",
    "    for row in result:\n",
    "        print(row)"
   ]
  },
  {
   "cell_type": "code",
   "execution_count": 23,
   "id": "dbd04f2c",
   "metadata": {},
   "outputs": [
    {
     "name": "stdout",
     "output_type": "stream",
     "text": [
      "Enter a string: dhanush\n",
      "The highest occurring character is 'h' and its occurrence count is 2.\n"
     ]
    }
   ],
   "source": [
    "def count_highest_char(input_str):\n",
    "    normalized_str = ''\n",
    "    for char in input_str:\n",
    "        if 'a' <= char <= 'z' or 'A' <= char <= 'Z':\n",
    "            normalized_str += char.lower()\n",
    "\n",
    "    char_counts = [0] * 26\n",
    "\n",
    "    for char in normalized_str:\n",
    "        index = ord(char) - ord('a')\n",
    "        char_counts[index] += 1\n",
    "\n",
    "    max_count = 0\n",
    "    max_char = ''\n",
    "    for i in range(26):\n",
    "        if char_counts[i] > max_count:\n",
    "            max_count = char_counts[i]\n",
    "            max_char = chr(i + ord('a'))\n",
    "\n",
    "    return max_char, max_count\n",
    "\n",
    "input_str = input(\"Enter a string: \")\n",
    "highest_char, occurrence_count = count_highest_char(input_str)\n",
    "print(\"The highest occurring character is '{}' and its occurrence count is {}.\".format(highest_char, occurrence_count))"
   ]
  },
  {
   "cell_type": "code",
   "execution_count": null,
   "id": "91b85dcb",
   "metadata": {},
   "outputs": [],
   "source": []
  }
 ],
 "metadata": {
  "kernelspec": {
   "display_name": "Python 3 (ipykernel)",
   "language": "python",
   "name": "python3"
  },
  "language_info": {
   "codemirror_mode": {
    "name": "ipython",
    "version": 3
   },
   "file_extension": ".py",
   "mimetype": "text/x-python",
   "name": "python",
   "nbconvert_exporter": "python",
   "pygments_lexer": "ipython3",
   "version": "3.9.13"
  }
 },
 "nbformat": 4,
 "nbformat_minor": 5
}
